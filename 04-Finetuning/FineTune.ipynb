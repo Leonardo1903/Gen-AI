{
 "cells": [
  {
   "cell_type": "code",
   "execution_count": null,
   "id": "a9462484",
   "metadata": {},
   "outputs": [
    {
     "ename": "",
     "evalue": "",
     "output_type": "error",
     "traceback": [
      "\u001b[1;31mRunning cells with 'venv (Python 3.12.6)' requires the ipykernel package.\n",
      "\u001b[1;31mInstall 'ipykernel' into the Python environment. \n",
      "\u001b[1;31mCommand: '\"c:/Users/LEONARDO FERNANDES/Dev/Python/Gen-AI/venv/Scripts/python.exe\" -m pip install ipykernel -U --force-reinstall'"
     ]
    }
   ],
   "source": [
    "gpu_info = !nvidia-smi\n",
    "gpu_info = '\\n'.join(gpu_info)\n",
    "if gpu_info.find('failed') >= 0:\n",
    "  print('Not connected to a GPU')\n",
    "else:\n",
    "  print(gpu_info)"
   ]
  },
  {
   "cell_type": "code",
   "execution_count": null,
   "id": "792b0e7e",
   "metadata": {},
   "outputs": [],
   "source": [
    "pip install transformers"
   ]
  },
  {
   "cell_type": "code",
   "execution_count": null,
   "id": "74ae0a95",
   "metadata": {},
   "outputs": [],
   "source": [
    "import os"
   ]
  },
  {
   "cell_type": "code",
   "execution_count": null,
   "id": "83b92f7c",
   "metadata": {},
   "outputs": [],
   "source": [
    "os.environ[\"HF_TOKEN\"] = os.getenv(\"HF_TOKEN\")"
   ]
  },
  {
   "cell_type": "code",
   "execution_count": null,
   "id": "9434ded6",
   "metadata": {},
   "outputs": [],
   "source": [
    "import torch\n",
    "device = torch.device(\"cuda\" if torch.cuda.is_available() else \"cpu\")"
   ]
  },
  {
   "cell_type": "code",
   "execution_count": null,
   "id": "9d2343e0",
   "metadata": {},
   "outputs": [],
   "source": [
    "from transformers import AutoTokenizer, AutoModelForCausalLM"
   ]
  },
  {
   "cell_type": "code",
   "execution_count": null,
   "id": "7e930b7e",
   "metadata": {},
   "outputs": [],
   "source": [
    "model_name = \"google/gemma-3-1b-it\""
   ]
  },
  {
   "cell_type": "code",
   "execution_count": null,
   "id": "bfba3875",
   "metadata": {},
   "outputs": [],
   "source": [
    "tokenizer = AutoTokenizer.from_pretrained(model_name)"
   ]
  },
  {
   "cell_type": "code",
   "execution_count": null,
   "id": "d0d311b9",
   "metadata": {},
   "outputs": [],
   "source": [
    "tokenizer(\"Hello, World!\")"
   ]
  },
  {
   "cell_type": "code",
   "execution_count": null,
   "id": "ebddd280",
   "metadata": {},
   "outputs": [],
   "source": [
    "input_conversation = [\n",
    "    { \"role\": \"user\", \"content\": \"Which is the best place to learn GenAI?\" },\n",
    "    { \"role\": \"assistant\", \"content\": \"The best place to learn AI is\" }\n",
    "]"
   ]
  },
  {
   "cell_type": "code",
   "execution_count": null,
   "id": "e861db3b",
   "metadata": {},
   "outputs": [],
   "source": [
    "input_detokens = tokenizer.apply_chat_template(\n",
    "    conversation=input_conversation,\n",
    "    tokenize=False,\n",
    ").to(device)\n",
    "input_detokens"
   ]
  },
  {
   "cell_type": "code",
   "execution_count": null,
   "id": "42ff6732",
   "metadata": {},
   "outputs": [],
   "source": [
    "input_prompt= \"Which is the best place to learn GenAI?\"\n",
    "i_tokens= tokenizer(input_prompt, return_tensors=\"pt\")[\"input_ids\"].to(device)\n",
    "output_tokens = model.generate(i_tokens)\n",
    "tokenizer.batch_decode(output_tokens)"
   ]
  },
  {
   "cell_type": "code",
   "execution_count": null,
   "id": "a2835f50",
   "metadata": {},
   "outputs": [],
   "source": [
    "output_label=\"GenAI Cohort By ChaiCode and Piyush Garg\"\n",
    "full_conversation =input_detokens + output_label + tokenizer.eos_token\n",
    "full_conversation"
   ]
  },
  {
   "cell_type": "code",
   "execution_count": null,
   "id": "86f843b9",
   "metadata": {},
   "outputs": [],
   "source": [
    "input_tokenized= tokenizer(full_conversation, return_tensors=\"pt\",add_special_tokens=False).to(device)[\"input_ids\"]\n",
    "input_tokenized"
   ]
  },
  {
   "cell_type": "code",
   "execution_count": null,
   "id": "154ddbf5",
   "metadata": {},
   "outputs": [],
   "source": [
    "input_ids = input_tokenized[:, :-1].to(device)\n",
    "target_ids = input_tokenized[:, 1:].to(device)\n",
    "print(\"Input ids:\", input_ids)\n",
    "print(\"Target ids:\", target_ids)"
   ]
  },
  {
   "cell_type": "code",
   "execution_count": null,
   "id": "48099c2a",
   "metadata": {},
   "outputs": [],
   "source": [
    "import torch.nn as nn\n",
    "def calculate_loss(logits, labels):\n",
    "    loss_fn =nn.CrossEntropyLoss(reduction='none')\n",
    "    cross_entropy=loss_fn(logits.view(-1, logits.size(-1)), labels.view(-1))\n",
    "    return cross_entropy"
   ]
  },
  {
   "cell_type": "code",
   "execution_count": null,
   "id": "21096657",
   "metadata": {},
   "outputs": [],
   "source": [
    "import torch\n",
    "model = AutoModelForCausalLM.from_pretrained(\n",
    "    model_name,\n",
    "    torch_dtype=torch.bfloat16,\n",
    ").to(device)"
   ]
  },
  {
   "cell_type": "code",
   "execution_count": null,
   "id": "5ebf5e08",
   "metadata": {},
   "outputs": [],
   "source": [
    "from torch.optim import AdamW\n",
    "model.train()\n",
    "\n",
    "optimizer = AdamW(model.parameters(), lr=1e-5, weight_decay=0.01)\n",
    "\n",
    "for _ in range(10):\n",
    "    out =model(input_ids=input_ids)\n",
    "    loss=calculate_loss(out.logits, target_ids).mean()\n",
    "    loss.backward()\n",
    "    optimizer.step()\n",
    "    optimizer.zero_grad()\n",
    "    print(\"Loss:\", loss.item())"
   ]
  },
  {
   "cell_type": "code",
   "execution_count": null,
   "id": "b22cb80c",
   "metadata": {},
   "outputs": [],
   "source": [
    "input_tokens = tokenizer.apply_chat_template(\n",
    "    conversation=input_conversation,\n",
    "    tokenize=True,\n",
    "    return_tensors=\"pt\",\n",
    ").to(device)\n",
    "input_tokens\n",
    "\n",
    "output_tokens = model.generate(input_tokens, max_new_tokens=25)\n",
    "print(tokenizer.batch_decode(output_tokens, skip_special_tokens=True))"
   ]
  }
 ],
 "metadata": {
  "kernelspec": {
   "display_name": "venv",
   "language": "python",
   "name": "python3"
  },
  "language_info": {
   "name": "python",
   "version": "3.12.6"
  }
 },
 "nbformat": 4,
 "nbformat_minor": 5
}
