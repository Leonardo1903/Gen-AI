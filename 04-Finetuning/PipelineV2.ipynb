{
 "cells": [
  {
   "cell_type": "code",
   "execution_count": null,
   "id": "d2dacb1e",
   "metadata": {},
   "outputs": [],
   "source": [
    "pip install transformers"
   ]
  },
  {
   "cell_type": "code",
   "execution_count": null,
   "id": "431a5d93",
   "metadata": {},
   "outputs": [],
   "source": [
    "import os\n",
    "\n",
    "os.environ[\"HF_TOKEN\"] = os.getenv(\"HF_TOKEN\")"
   ]
  },
  {
   "cell_type": "code",
   "execution_count": null,
   "id": "1624c535",
   "metadata": {},
   "outputs": [],
   "source": [
    "from transformers import AutoTokenizer, AutoModelForCausalLM"
   ]
  },
  {
   "cell_type": "code",
   "execution_count": null,
   "id": "45687522",
   "metadata": {},
   "outputs": [],
   "source": [
    "model_name = \"google/gemma-3-1b-it\""
   ]
  },
  {
   "cell_type": "code",
   "execution_count": null,
   "id": "1ee6bd32",
   "metadata": {},
   "outputs": [],
   "source": [
    "tokenizer = AutoTokenizer.from_pretrained(model_name)"
   ]
  },
  {
   "cell_type": "code",
   "execution_count": null,
   "id": "728a9736",
   "metadata": {},
   "outputs": [],
   "source": [
    "input_prompt = [\n",
    "    \"The capital of India is\"\n",
    "]"
   ]
  },
  {
   "cell_type": "code",
   "execution_count": null,
   "id": "c6a35a2b",
   "metadata": {},
   "outputs": [],
   "source": [
    "tokenized = tokenizer(input_prompt, return_tensors=\"pt\")"
   ]
  },
  {
   "cell_type": "code",
   "execution_count": null,
   "id": "5a533abc",
   "metadata": {},
   "outputs": [],
   "source": [
    "tokenized[\"input_ids\"]"
   ]
  },
  {
   "cell_type": "code",
   "execution_count": null,
   "id": "8407e4e4",
   "metadata": {},
   "outputs": [],
   "source": [
    "import torch\n",
    "\n",
    "model = AutoModelForCausalLM.from_pretrained(\n",
    "    model_name,\n",
    "    torch_dtype=torch.bfloat16\n",
    ")"
   ]
  },
  {
   "cell_type": "code",
   "execution_count": null,
   "id": "03f6a1c4",
   "metadata": {},
   "outputs": [],
   "source": [
    "gen_result = model.generate(tokenized[\"input_ids\"], max_new_tokens=25)"
   ]
  },
  {
   "cell_type": "code",
   "execution_count": null,
   "id": "5f93e33d",
   "metadata": {},
   "outputs": [],
   "source": [
    "gen_result"
   ]
  },
  {
   "cell_type": "code",
   "execution_count": null,
   "id": "b48a1921",
   "metadata": {},
   "outputs": [],
   "source": [
    "ouput = tokenizer.batch_decode(gen_result)\n",
    "ouput"
   ]
  }
 ],
 "metadata": {
  "language_info": {
   "name": "python"
  }
 },
 "nbformat": 4,
 "nbformat_minor": 5
}
